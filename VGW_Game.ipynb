{
 "cells": [
  {
   "cell_type": "markdown",
   "id": "d32b84ff-3d0f-42ab-98da-dec206726e0c",
   "metadata": {},
   "source": [
    "# Takeoff Pygame Project\n",
    "\n",
    "In this notebook, we will be creating a game from scratch using the Pygame modules. This game will take the form of an endless runner or dodge game. In these types of games, a player continues on a single infinite level dodging obstacles until they hit one and end the game. Oftentimes, the player is moving to the right (background and obstacles move to the left) while avoiding obstacles. Rather in this game, our player will be moving up while dodging obstacles that are falling down. \n",
    "\n",
    "### Mechanics\n",
    "\n",
    "##### Controls:\n",
    "The player will have 3 separate controls. The first control will be the spacebar which will move the character upward. The character will automatically want to fall downward, therefore holding the spacebar will allow you to move up and releasing the spacebar will make the character natually fall. The second and third controls will be the left and right arrow keys to move the character to the left and right respectively. Through these 3 controls, the player can move their character in all directions in the 2D plane of the screen.\n",
    "\n",
    "##### Boundaries:\n",
    "Boundary conditions will be set at the edges of the game window. The left and right boundaries along with the top boundary will serve as borders that the game will not allow you to pass. Therefore, your character will stop at any of these sides if the player attempts to move their character past them. The bottom boundary on the other hand will serve as a possible way of ending the game. If the player allows their character to fall too far to the point that they fall to the bottom boundary, the character will explode and the game will be over.\n",
    "\n",
    "##### Obstacles:\n",
    "Obstacles will continuously fall from the top of the screen towards the bottom. Their positions will be randomly generated and therefore unpredictable. This is done so that the player has to act on reaction to seeing the obstacle rather than knowledge of knowing where it will be. As the player advances through the game, the obstacles will become faster. This will make the game progressively more difficult as time advances. When the player allows the character to collide with an obstacle, the character will explode and the game will end.\n",
    "\n",
    "### Score\n",
    "The objective of the game is to obtain the highest possible score. The player is awarded a single point for every obstacle that is sucessfully dodged as it exists the bottom of the screen. This means that as the game progresses, points can be accumulated faster due to higher numbers of obstacles and their faster speeds.\n",
    "\n",
    "### Theme, Visuals, and Audio\n",
    "This game will have a space theme. The name takeoff comes from the character being a rocketship as it takes off and flies when the spacebar is held. The obstacles will be asteroids that fall from the top. A flame will come from the bottom of the rocket while the spacebar is held and a corresponding rocket booster noise will accompany. There will be a fun scifi space backround with fast paced game music in the background. When the player dies, the rocket will turn into an explotion and their will be an explosive noise to go along with this as well. The current score will appear at the top left of the screen throughout the game."
   ]
  },
  {
   "cell_type": "markdown",
   "id": "269997f9-1c66-4b6f-821c-d9050c8165ac",
   "metadata": {},
   "source": [
    "## Creating the Game"
   ]
  },
  {
   "cell_type": "markdown",
   "id": "25594bd7-5f31-47c8-b3f5-359594e0ea9d",
   "metadata": {},
   "source": [
    "We need to import all of the necessary modules needed to code the game."
   ]
  },
  {
   "cell_type": "code",
   "execution_count": 5,
   "id": "9fa10ef1-c156-4ddf-90d8-5515fc01370c",
   "metadata": {},
   "outputs": [
    {
     "name": "stdout",
     "output_type": "stream",
     "text": [
      "pygame 2.6.1 (SDL 2.28.4, Python 3.12.7)\n",
      "Hello from the pygame community. https://www.pygame.org/contribute.html\n"
     ]
    }
   ],
   "source": [
    "# Importing Pygame which has all of the game specific commands\n",
    "import pygame\n",
    "\n",
    "# Importing random which allows us to generate random values\n",
    "import random\n",
    "\n",
    "# Importing math package to easily call the distance formula for collisions\n",
    "import math\n",
    "\n",
    "# Importing mixer to allow for game sounds and music\n",
    "from pygame import mixer"
   ]
  },
  {
   "cell_type": "markdown",
   "id": "b27a9703-b88a-4e27-9b21-658198476434",
   "metadata": {},
   "source": [
    "Now we need to initialize the Pygame modules in order to be able to use all of its components. It basically sets up or turns on the neccessary components of Pygame. We will also add a clock to make sure the game runs the same on all devices."
   ]
  },
  {
   "cell_type": "code",
   "execution_count": 7,
   "id": "b4e75c49-9863-4d0e-9c0d-265e072fcfa9",
   "metadata": {},
   "outputs": [],
   "source": [
    "# Initializing Pygame modules\n",
    "pygame.init()\n",
    "\n",
    "# Adding clock\n",
    "clock = pygame.time.Clock()"
   ]
  },
  {
   "cell_type": "markdown",
   "id": "4a66da59-3098-4d7a-9dc4-4fc78faa02ad",
   "metadata": {},
   "source": [
    "Now that we have all of the modules successfully imported and initailized, we can start with the creation of the game. A very important first step to this is creating the game window. This is the screen in which the game will be played and where the game components will be displayed. We will also create a game over trigger that can be used to allow certain functions to happen either only when the game is active or only after the game has ended."
   ]
  },
  {
   "cell_type": "code",
   "execution_count": 9,
   "id": "4c23eb10-6be7-4e80-a639-322e9db54ec0",
   "metadata": {},
   "outputs": [],
   "source": [
    "# Creating a game window of width 800 and height 600\n",
    "windowX = 800\n",
    "windowY = 600\n",
    "screen = pygame.display.set_mode((windowX, windowY))\n",
    "\n",
    "# Setting over trigger to false meaning the game starts as being active\n",
    "over_trigger = False"
   ]
  },
  {
   "cell_type": "markdown",
   "id": "0475f9c9-ff18-4975-92ed-d16a16bf891d",
   "metadata": {},
   "source": [
    "Note that the window is generated down and right, starting from the top left corner. This means that a width value of 0 corresponds to the left border of the window and a width value of 800 corresponds to the right border of the window. Similarly, a height value of 0 corresponds to the top border of the window while a height value of 600 corresponds to the bottom of the window. This is very important to know as we will need to use this coordinate system to implement all of the aspects of our game to spefic locations on the window. "
   ]
  },
  {
   "cell_type": "markdown",
   "id": "cba6b161-c9ea-4724-82f5-5121c20a0a56",
   "metadata": {},
   "source": [
    "Now that we have our game window created, we want to add the title of the game to the top of the window as an identifyer. "
   ]
  },
  {
   "cell_type": "code",
   "execution_count": 12,
   "id": "f42c091b-4ccf-4544-b2cc-3a25a6062ddc",
   "metadata": {},
   "outputs": [],
   "source": [
    "# Setting window title\n",
    "pygame.display.set_caption('Takeoff')"
   ]
  },
  {
   "cell_type": "markdown",
   "id": "88af068f-dd97-4330-8af9-724d0706e420",
   "metadata": {},
   "source": [
    "Next, we need to create the background for the game to be played on. To do this, we will find and download and image from the internet into our folder, load it into pygame, and then scale the image to our desired size."
   ]
  },
  {
   "cell_type": "code",
   "execution_count": 14,
   "id": "45e9368d-eb80-41b7-80a6-41a8a568677d",
   "metadata": {},
   "outputs": [],
   "source": [
    "# Loading our background image into pygame\n",
    "background = pygame.image.load('assets/space.jpg')\n",
    "\n",
    "# Scaling the background to desired size\n",
    "background = pygame.transform.scale(background, (1200, 600))"
   ]
  },
  {
   "cell_type": "markdown",
   "id": "488a7b51-6e66-40f2-b501-3f7283e82f32",
   "metadata": {},
   "source": [
    "We now have a game window with a background and a title. Here, we will want to add background music that fits in with the game design. Withough background music, the game could be quite boring to play. We need to find music online, download it to the game folder, load it into the notebook, and finally allow it to loop so that it does not stop after one play through. We will allow this music to play only while the game is active as we will change the music after death."
   ]
  },
  {
   "cell_type": "code",
   "execution_count": 16,
   "id": "995bb0a9-3bf3-44e9-a31c-52f4258531be",
   "metadata": {},
   "outputs": [],
   "source": [
    "# Loading background music\n",
    "mixer.music.load('assets/background.mp3')\n",
    "\n",
    "# Allowing the music to loop while the game is active\n",
    "if over_trigger == False:\n",
    "    mixer.music.play(-1)"
   ]
  },
  {
   "cell_type": "markdown",
   "id": "5e811488-0010-41d3-af71-68b696f9428c",
   "metadata": {},
   "source": [
    "We are finally ready to start adding the visuals into the game. We will start with the main playable character. To do this, we will define the coordinates of the player, the initial movements of the player, and define a function which will put our player into the game window. We need to find a player icon online in which we want to use to be downloaded into the game as well. We will do the same thing for the flame that accompanies the rocket below when the player holds the spacebar. flame_on is initially defined as False and will eventually change change value to True so that the program knows when to display the flame and flame sound. We also create a function that places the flame in the correct position below the character. "
   ]
  },
  {
   "cell_type": "code",
   "execution_count": 18,
   "id": "fac6d482-7bf5-4e21-bf20-308fe76a9f15",
   "metadata": {},
   "outputs": [],
   "source": [
    "# Player and Flame\n",
    "\n",
    "# Defining player initial coordinates\n",
    "playerX = 370\n",
    "playerY = 520\n",
    "\n",
    "# Defining players inital movement\n",
    "playerX_change = 0\n",
    "playerY_change = 0\n",
    "\n",
    "# Loading player icon image\n",
    "rocket = pygame.image.load('assets/rocket.png')\n",
    "rotated_rocket = pygame.transform.rotate(rocket, 45)\n",
    "\n",
    "# Define a function to create the player with an image and its coordinates\n",
    "def player(x,y):\n",
    "    screen.blit(rotated_rocket, (x, y))\n",
    "\n",
    "# Loading rocket flame icon and its coordinates\n",
    "flame = pygame.image.load('assets/flame.png')\n",
    "flame = pygame.transform.rotate(flame, 180)\n",
    "flameX = playerX\n",
    "flameY = playerY\n",
    "flame_on = False\n",
    "\n",
    "# Firing flame\n",
    "def fire_flame(x, y):\n",
    "    screen.blit(flame, (x+29, y+65))"
   ]
  },
  {
   "cell_type": "markdown",
   "id": "e431f42f-5233-4d2e-ad91-b9c807705eb9",
   "metadata": {},
   "source": [
    "The obstacles need to be created next. The image, x-coordinate, y-coordinate, and y change values are defined as empty arrays so that each individual obstacle can be appended to them as they respawn or are created. A for loop is used to cycle through the number of obstacles and define a random location in which they will spawn in our defined range of possibilites. Lastly, a function is made that will be used to put the obstacles on the screen in their random location."
   ]
  },
  {
   "cell_type": "code",
   "execution_count": 20,
   "id": "4fc72549-8669-43c5-bce1-8c91d0227ea2",
   "metadata": {},
   "outputs": [],
   "source": [
    "# Obstacles\n",
    "\n",
    "# Defining obstacles and their initial coordinates\n",
    "asteroid = pygame.image.load('assets/asteroid.png')\n",
    "asteroid = pygame.transform.rotate(asteroid, 45)\n",
    "asteroid = pygame.transform.scale(asteroid, (50, 50))\n",
    "obsimg = []\n",
    "obsX = []\n",
    "obsY = []\n",
    "obsY_change = []\n",
    "num_of_obs = 12\n",
    "\n",
    "for i in range(num_of_obs):\n",
    "    obsimg.append(asteroid)\n",
    "\n",
    "    # Coordinates of obstacles on window with randomization and movement\n",
    "    obsX.append(random.randint(0, 734))\n",
    "    obsY.append(random.randint(-1200, -10))\n",
    "    obsY_change.append(3)\n",
    "\n",
    "# Function to make obstacles\n",
    "def obs(x, y, i):\n",
    "    screen.blit(obsimg[i], (x, y))"
   ]
  },
  {
   "cell_type": "markdown",
   "id": "b4f1dbb5-34fe-48cb-a144-7be853108f63",
   "metadata": {},
   "source": [
    "With all of the main visuals defined for the game, we must create and define a way for the game to end. This takes the form of a collision between the rocketship and an asteroid. Here, we define a collision as a specified distance between an asteroid and the rocketship."
   ]
  },
  {
   "cell_type": "code",
   "execution_count": 22,
   "id": "b3e66f2b-0355-4c7d-811f-e04d6db041e2",
   "metadata": {},
   "outputs": [],
   "source": [
    "# Defining Collision Function\n",
    "\n",
    "def collide(playerX, playerY, obsX, obsY):\n",
    "    player = (playerX+20, playerY)\n",
    "    obs = (obsX, obsY)\n",
    "    distance = math.dist(player, obs)\n",
    "    if distance < 30:\n",
    "        return True\n",
    "    else:\n",
    "        return False"
   ]
  },
  {
   "cell_type": "markdown",
   "id": "4ff3c82e-91fa-468d-8668-f5f6a627bd05",
   "metadata": {},
   "source": [
    "Now we need a way to keep score and display it on the screen. Here, we will define what a score is and create a function to place it on the screen from everything to its location, color, and font."
   ]
  },
  {
   "cell_type": "code",
   "execution_count": 24,
   "id": "c340c05a-c797-44e2-9f76-89ea3f26c86b",
   "metadata": {},
   "outputs": [],
   "source": [
    "# Keeping score\n",
    "\n",
    "start_time = pygame.time.get_ticks()\n",
    "final_time = 0\n",
    "font = pygame.font.Font('freesansbold.ttf', 40)\n",
    "textX = 10\n",
    "textY = 550\n",
    "\n",
    "# Defining a function to show the elapsed time\n",
    "def show_time(x, y):\n",
    "    if over_trigger == False:\n",
    "        elapsed_sec = (pygame.time.get_ticks() - start_time) / 1000\n",
    "    else:\n",
    "        elapsed_sec = final_time\n",
    "    \n",
    "    minutes = int(elapsed_sec) // 60\n",
    "    seconds = int(elapsed_sec) % 60\n",
    "    time_text = f'Time Survived: {minutes:02}:{seconds:02}'\n",
    "    time = font.render(time_text, True, (255, 255, 255))\n",
    "    screen.blit(time, (x, y))\n",
    "\n",
    "# Changing the location of the score when the game ends\n",
    "text_overX = 200\n",
    "text_overY = 280"
   ]
  },
  {
   "cell_type": "markdown",
   "id": "62e125a6-51cd-4e99-9714-3efa9d82bbba",
   "metadata": {},
   "source": [
    "Similar to score keeping, we need to define a function to display a game over text when the character dies. "
   ]
  },
  {
   "cell_type": "code",
   "execution_count": 26,
   "id": "fcea5e05-1fb1-46c3-8dda-e20c7f9ab377",
   "metadata": {},
   "outputs": [],
   "source": [
    "# Game Over\n",
    "\n",
    "game_over_text = pygame.font.Font('freesansbold.ttf', 70)\n",
    "overX = 185\n",
    "overY = 200\n",
    "\n",
    "# Defining function to display game over\n",
    "def game_over(x, y):\n",
    "    over = game_over_text.render('GAME OVER', True, (255, 255, 255))\n",
    "    screen.blit(over, (x, y))"
   ]
  },
  {
   "cell_type": "markdown",
   "id": "14614e09-706c-45ea-b8b8-2623acd3e6f2",
   "metadata": {},
   "source": [
    "Along with the game over text, we want to add a button to play again so that the window need not be closed and this entire notebook reran in order to play another game after a death."
   ]
  },
  {
   "cell_type": "code",
   "execution_count": 28,
   "id": "fab173e2-aa63-4ab8-aaa6-ea496473415f",
   "metadata": {},
   "outputs": [],
   "source": [
    "# Play again button\n",
    "\n",
    "# Defining colors for replay button and replay button while hovered\n",
    "replay_color = (50, 50, 170)\n",
    "replay_hover_color = (50, 100, 170)\n",
    "\n",
    "# Defining the shape of the button (x, y, width, height)\n",
    "replay_shape = pygame.Rect(250, 330, 300, 100)\n",
    "\n",
    "# Defining function to create button\n",
    "def replay():\n",
    "    mouse_position = pygame.mouse.get_pos()\n",
    "    click = pygame.mouse.get_pressed()\n",
    "\n",
    "    # hover effect\n",
    "    if replay_shape.collidepoint(mouse_position):\n",
    "        pygame.draw.rect(screen, replay_hover_color, replay_shape)\n",
    "        if click[0] == 1:\n",
    "            return True\n",
    "    else:\n",
    "        pygame.draw.rect(screen, replay_color, replay_shape)\n",
    "\n",
    "    # draw button text\n",
    "    text = font.render('PLAY AGAIN', True, (255, 255, 255))\n",
    "    text_rect = text.get_rect(center=replay_shape.center)\n",
    "    screen.blit(text, text_rect)\n",
    "\n",
    "    return False"
   ]
  },
  {
   "cell_type": "markdown",
   "id": "d7518344-8334-48bb-99dd-521261a1094e",
   "metadata": {},
   "source": [
    "When the play again button is clicked, things need to happen. We need to create a function which resets the game to its beginning. This means returning the character and obstacles to their original positions, restarting the music, restarting the obstacles initial conditions, restarting the time, and turning over_trigger back to false."
   ]
  },
  {
   "cell_type": "code",
   "execution_count": 30,
   "id": "02f1bcf5-5b93-4eed-b24c-9a6236567e0d",
   "metadata": {},
   "outputs": [],
   "source": [
    "# Defining a restart function\n",
    "def restart():\n",
    "    global playerX, playerY, obsX, obsY, obsY_change, num_of_obs, start_time, final_time\n",
    "\n",
    "    # Resetting the player\n",
    "    playerX = 370\n",
    "    playerY = 520\n",
    "\n",
    "    # Resetting the obstacles\n",
    "    obsX = []\n",
    "    obsY = []\n",
    "    obsY_change = []\n",
    "    num_of_obs = 12\n",
    "\n",
    "    for i in range(num_of_obs):\n",
    "        obsX.append(random.randint(0, 734))\n",
    "        obsY.append(random.randint(-1200, -100))\n",
    "        obsY_change.append(3)\n",
    "\n",
    "    # Reset the score and the time\n",
    "    final_time = 0\n",
    "    start_time = pygame.time.get_ticks()\n",
    "\n",
    "    # Resetting the music\n",
    "    mixer.music.load('assets/background.mp3')\n",
    "    mixer.music.play(-1)"
   ]
  },
  {
   "cell_type": "markdown",
   "id": "bb993a9d-dbdc-41be-b20f-c896420b0cf3",
   "metadata": {},
   "source": [
    "With all preliminary game information defined, we are finally ready to get to the biggest chunk of the code. Here, we allow the game to run, allow for player inputs, game movements, screen interactions, and everything else that makes gameplay all while updating the screen with all of these at the same time. A while loop is created that allows everything inside to happen as long as the game window is open. That is, when the game is not running, nothing inside applies. "
   ]
  },
  {
   "cell_type": "code",
   "execution_count": 32,
   "id": "046abf7a-3cad-4c01-a18f-c57c7d973f0d",
   "metadata": {},
   "outputs": [],
   "source": [
    "# Creating while loop in which all information will be valid while the window is running\n",
    "running = True\n",
    "while running:\n",
    "\n",
    "    # Adding background image to screen so that it appears at all times while the game is running\n",
    "    screen.blit(background, (0, 0))\n",
    "\n",
    "    # Creating a for loop for game events. Here, all of the keystrokes are defined and mapped to a specific function\n",
    "    for event in pygame.event.get():\n",
    "        if event.type == pygame.QUIT:\n",
    "            running = False\n",
    "\n",
    "\n",
    "        # Mapping downward keystrokes to functions\n",
    "        if event.type == pygame.KEYDOWN:\n",
    "            if event.key == pygame.K_SPACE:\n",
    "                playerY_change = -6\n",
    "                # Rocket noise when holding space\n",
    "                if over_trigger == False:\n",
    "                    flame_sound = pygame.mixer.Sound('assets/engine.mp3')\n",
    "                    flame_sound.play()\n",
    "                # Rocket flame when holding space\n",
    "                flame_on = True\n",
    "            \n",
    "            if event.key == pygame.K_LEFT:\n",
    "                playerX_change = -6\n",
    "            if event.key == pygame.K_RIGHT:\n",
    "                playerX_change = 6\n",
    "\n",
    "        # Mapping upward keystrokes to functions\n",
    "        if event.type == pygame.KEYUP:\n",
    "            if event.key == pygame.K_SPACE:\n",
    "                playerY_change = 4\n",
    "                # Rocket noise ending when lifting space\n",
    "                flame_sound.stop()\n",
    "                # Flame leaving when lifting space\n",
    "                flame_on = False\n",
    "            \n",
    "            if event.key == pygame.K_LEFT or event.key == pygame.K_RIGHT:\n",
    "                playerX_change = 0\n",
    "        \n",
    "    # Allowing player to move with keystrokes\n",
    "    playerX += playerX_change\n",
    "    playerY += playerY_change\n",
    "\n",
    "    # Setting X-boundaries for the player\n",
    "    if playerX <= -20:\n",
    "        playerX = -20\n",
    "    elif playerX >= 730:\n",
    "        playerX = 730\n",
    "\n",
    "    # Setting Y-boundaries for player\n",
    "    if playerY <= 0:\n",
    "        playerY = 0\n",
    "    # Game ends if player falls to far below the lower boundary of the game window\n",
    "    if playerY >= 570:\n",
    "        over_trigger = True\n",
    "        mixer.music.stop()\n",
    "        mixer.music.load('assets/over_music.mp3')\n",
    "        mixer.music.play(-1)\n",
    "        explosion_sound = pygame.mixer.Sound('assets/explosion.mp3')\n",
    "        explosion_sound.play()\n",
    "        final_time = (pygame.time.get_ticks() - start_time) / 1000\n",
    "        for j in range(num_of_obs):\n",
    "                obsX[j] = 900\n",
    "                obsY[j] = 0\n",
    "                obsY_change[j] = 0\n",
    "\n",
    "    # Allowing obstacles to fall, respawn, and collide with character\n",
    "    for i in range(num_of_obs):\n",
    "        obsY[i] += obsY_change[i]\n",
    "\n",
    "        if obsY[i] >= 700:\n",
    "            obsX[i] = (random.randint(0, 734))\n",
    "            obsY[i] = (random.randint(-120, -20))\n",
    "            obsY_change[i] += 0.2\n",
    "\n",
    "        # Game Over\n",
    "        collision = collide(playerX, playerY, obsX[i], obsY[i])\n",
    "        if collision:\n",
    "            for j in range(num_of_obs):\n",
    "                obsX[j] = 900\n",
    "                obsY[j] = 0\n",
    "                obsY_change[j] = 0\n",
    "            over_trigger = True\n",
    "            mixer.music.stop()\n",
    "            mixer.music.load('assets/over_music.mp3')\n",
    "            mixer.music.play(-1)\n",
    "            explosion_sound = pygame.mixer.Sound('assets/explosion.mp3')\n",
    "            explosion_sound.play()\n",
    "            final_time = (pygame.time.get_ticks() - start_time) / 1000\n",
    "\n",
    "        # Putting obstacles into the game\n",
    "        obs(obsX[i], obsY[i], i)\n",
    "\n",
    "    # Putting the player into the window and displaying the time elapsed\n",
    "    if over_trigger == False:\n",
    "        player(playerX, playerY)\n",
    "        show_time(textX, textY)\n",
    "\n",
    "    # Drawing the flame while space is held\n",
    "    if flame_on:\n",
    "        if over_trigger == False:\n",
    "            flameX = playerX\n",
    "            flameY = playerY\n",
    "            fire_flame(flameX, flameY)\n",
    "\n",
    "    # Game Over Text\n",
    "    if over_trigger == True:\n",
    "        game_over(overX, overY)\n",
    "        show_time(text_overX, text_overY)\n",
    "        playerX = 1000\n",
    "        playerY = 0\n",
    "        playerY_change = 0\n",
    "\n",
    "    # Play Again\n",
    "        if replay():\n",
    "            over_trigger = False\n",
    "            restart()\n",
    "            \n",
    "\n",
    "    # Updating the game window with any inputs\n",
    "    pygame.display.update()\n",
    "\n",
    "    # Setting uniform FPS so that the game runs the same speed on all devices\n",
    "    clock.tick(60)\n",
    "\n",
    "# Allowing for quitting of the window thus ending the while statement and everything inside\n",
    "pygame.quit()"
   ]
  },
  {
   "cell_type": "code",
   "execution_count": null,
   "id": "dc53d947-c761-4b90-b964-b557782f294f",
   "metadata": {},
   "outputs": [],
   "source": []
  }
 ],
 "metadata": {
  "kernelspec": {
   "display_name": "Python [conda env:base] *",
   "language": "python",
   "name": "conda-base-py"
  },
  "language_info": {
   "codemirror_mode": {
    "name": "ipython",
    "version": 3
   },
   "file_extension": ".py",
   "mimetype": "text/x-python",
   "name": "python",
   "nbconvert_exporter": "python",
   "pygments_lexer": "ipython3",
   "version": "3.12.7"
  }
 },
 "nbformat": 4,
 "nbformat_minor": 5
}
